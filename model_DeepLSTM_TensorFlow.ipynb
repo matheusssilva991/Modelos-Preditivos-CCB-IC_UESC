{
 "cells": [
  {
   "cell_type": "code",
   "execution_count": 1,
   "metadata": {},
   "outputs": [],
   "source": [
    "import matplotlib.pyplot as plt\n",
    "import numpy as np\n",
    "import tensorflow as tf\n",
    "import pandas as pd\n",
    "import json\n",
    "import configparser\n",
    "from pathlib import Path\n",
    "import os\n",
    "\n",
    "from sklearn.metrics import mean_absolute_percentage_error as MAPE\n",
    "from sklearn.metrics import mean_squared_error as MSE\n",
    "def RMSE(y_real, y_predict):\n",
    "    return np.sqrt(MSE(y_real, y_predict))\n",
    "\n",
    "from tensorflow import keras\n",
    "from tensorflow.keras.models import Sequential\n",
    "from tensorflow.keras.layers import Dense\n",
    "from tensorflow.keras.layers import LSTM\n",
    "\n",
    "configs = configparser.ConfigParser()\n",
    "configs.read(\"configuracoes.conf\",encoding='utf-8')\n",
    "data_folder = Path(configs[\"DEFAULT\"][\"folder_path\"])\n",
    "path = data_folder / configs[\"DEFAULT\"][\"file\"]\n",
    "objeto = configs[\"DEFAULT\"][\"objeto\"]\n",
    "regiao = configs[\"DEFAULT\"][\"regiao\"]"
   ]
  },
  {
   "cell_type": "code",
   "execution_count": 2,
   "metadata": {},
   "outputs": [
    {
     "name": "stdout",
     "output_type": "stream",
     "text": [
      "Epoch 1/7\n",
      "120/120 [==============================] - 5s 13ms/step - loss: 0.0122 - val_loss: 0.0012\n",
      "Epoch 2/7\n",
      "120/120 [==============================] - 1s 5ms/step - loss: 0.0019 - val_loss: 0.0011\n",
      "Epoch 3/7\n",
      "120/120 [==============================] - 1s 5ms/step - loss: 0.0018 - val_loss: 9.0729e-04\n",
      "Epoch 4/7\n",
      "120/120 [==============================] - 1s 5ms/step - loss: 0.0016 - val_loss: 7.9358e-04\n",
      "Epoch 5/7\n",
      "120/120 [==============================] - 1s 5ms/step - loss: 0.0015 - val_loss: 7.0829e-04\n",
      "Epoch 6/7\n",
      "120/120 [==============================] - 1s 5ms/step - loss: 0.0015 - val_loss: 6.4775e-04\n",
      "Epoch 7/7\n",
      "120/120 [==============================] - 1s 5ms/step - loss: 0.0014 - val_loss: 6.0834e-04\n",
      "Epoch 1/7\n",
      "120/120 [==============================] - 5s 12ms/step - loss: 0.0222 - val_loss: 0.0012\n",
      "Epoch 2/7\n",
      "120/120 [==============================] - 1s 5ms/step - loss: 0.0017 - val_loss: 0.0011\n",
      "Epoch 3/7\n",
      "120/120 [==============================] - 1s 4ms/step - loss: 0.0016 - val_loss: 9.0109e-04\n",
      "Epoch 4/7\n",
      "120/120 [==============================] - 0s 4ms/step - loss: 0.0015 - val_loss: 7.4573e-04\n",
      "Epoch 5/7\n",
      "120/120 [==============================] - 1s 5ms/step - loss: 0.0015 - val_loss: 6.5249e-04\n",
      "Epoch 6/7\n",
      "120/120 [==============================] - 1s 5ms/step - loss: 0.0014 - val_loss: 6.0890e-04\n",
      "Epoch 7/7\n",
      "120/120 [==============================] - 1s 5ms/step - loss: 0.0014 - val_loss: 5.9677e-04\n",
      "Epoch 1/7\n",
      "120/120 [==============================] - 4s 11ms/step - loss: 0.0171 - val_loss: 0.0010\n",
      "Epoch 2/7\n",
      "120/120 [==============================] - 1s 4ms/step - loss: 0.0016 - val_loss: 0.0011\n",
      "Epoch 3/7\n",
      "120/120 [==============================] - 0s 4ms/step - loss: 0.0015 - val_loss: 8.3640e-04\n",
      "Epoch 4/7\n",
      "120/120 [==============================] - 1s 4ms/step - loss: 0.0015 - val_loss: 6.9148e-04\n",
      "Epoch 5/7\n",
      "120/120 [==============================] - 0s 4ms/step - loss: 0.0014 - val_loss: 6.3517e-04\n",
      "Epoch 6/7\n",
      "120/120 [==============================] - 1s 5ms/step - loss: 0.0013 - val_loss: 6.1705e-04\n",
      "Epoch 7/7\n",
      "120/120 [==============================] - 1s 4ms/step - loss: 0.0013 - val_loss: 6.1264e-04\n",
      "Epoch 1/7\n",
      "120/120 [==============================] - 4s 12ms/step - loss: 0.0148 - val_loss: 0.0013\n",
      "Epoch 2/7\n",
      "120/120 [==============================] - 1s 5ms/step - loss: 0.0018 - val_loss: 0.0011\n",
      "Epoch 3/7\n",
      "120/120 [==============================] - 1s 4ms/step - loss: 0.0017 - val_loss: 8.9780e-04\n",
      "Epoch 4/7\n",
      "120/120 [==============================] - 0s 4ms/step - loss: 0.0016 - val_loss: 7.2759e-04\n",
      "Epoch 5/7\n",
      "120/120 [==============================] - 0s 4ms/step - loss: 0.0015 - val_loss: 6.1964e-04\n",
      "Epoch 6/7\n",
      "120/120 [==============================] - 1s 5ms/step - loss: 0.0014 - val_loss: 5.6653e-04\n",
      "Epoch 7/7\n",
      "120/120 [==============================] - 0s 4ms/step - loss: 0.0014 - val_loss: 5.4894e-04\n",
      "Epoch 1/7\n",
      "120/120 [==============================] - 4s 10ms/step - loss: 0.0080 - val_loss: 0.0014\n",
      "Epoch 2/7\n",
      "120/120 [==============================] - 1s 4ms/step - loss: 0.0018 - val_loss: 0.0011\n",
      "Epoch 3/7\n",
      "120/120 [==============================] - 1s 5ms/step - loss: 0.0016 - val_loss: 8.4808e-04\n",
      "Epoch 4/7\n",
      "120/120 [==============================] - 0s 4ms/step - loss: 0.0015 - val_loss: 7.1257e-04\n",
      "Epoch 5/7\n",
      "120/120 [==============================] - 1s 4ms/step - loss: 0.0014 - val_loss: 6.3300e-04\n",
      "Epoch 6/7\n",
      "120/120 [==============================] - 0s 4ms/step - loss: 0.0014 - val_loss: 5.9161e-04\n",
      "Epoch 7/7\n",
      "120/120 [==============================] - 0s 4ms/step - loss: 0.0013 - val_loss: 5.7600e-04\n",
      "WARNING:tensorflow:5 out of the last 5 calls to <function Model.make_predict_function.<locals>.predict_function at 0x0000022320D7F430> triggered tf.function retracing. Tracing is expensive and the excessive number of tracings could be due to (1) creating @tf.function repeatedly in a loop, (2) passing tensors with different shapes, (3) passing Python objects instead of tensors. For (1), please define your @tf.function outside of the loop. For (2), @tf.function has experimental_relax_shapes=True option that relaxes argument shapes that can avoid unnecessary retracing. For (3), please refer to https://www.tensorflow.org/guide/function#controlling_retracing and https://www.tensorflow.org/api_docs/python/tf/function for  more details.\n",
      "Epoch 1/7\n",
      "120/120 [==============================] - 4s 10ms/step - loss: 0.0114 - val_loss: 6.2851e-04\n",
      "Epoch 2/7\n",
      "120/120 [==============================] - 1s 4ms/step - loss: 0.0016 - val_loss: 9.9459e-04\n",
      "Epoch 3/7\n",
      "120/120 [==============================] - 1s 4ms/step - loss: 0.0016 - val_loss: 0.0012\n",
      "Epoch 4/7\n",
      "120/120 [==============================] - 0s 4ms/step - loss: 0.0016 - val_loss: 9.5411e-04\n",
      "Epoch 5/7\n",
      "120/120 [==============================] - 1s 4ms/step - loss: 0.0015 - val_loss: 7.6439e-04\n",
      "Epoch 6/7\n",
      "120/120 [==============================] - 0s 4ms/step - loss: 0.0014 - val_loss: 6.7044e-04\n",
      "Epoch 7/7\n",
      "120/120 [==============================] - 0s 4ms/step - loss: 0.0014 - val_loss: 6.1529e-04\n",
      "WARNING:tensorflow:6 out of the last 6 calls to <function Model.make_predict_function.<locals>.predict_function at 0x0000022313BF8700> triggered tf.function retracing. Tracing is expensive and the excessive number of tracings could be due to (1) creating @tf.function repeatedly in a loop, (2) passing tensors with different shapes, (3) passing Python objects instead of tensors. For (1), please define your @tf.function outside of the loop. For (2), @tf.function has experimental_relax_shapes=True option that relaxes argument shapes that can avoid unnecessary retracing. For (3), please refer to https://www.tensorflow.org/guide/function#controlling_retracing and https://www.tensorflow.org/api_docs/python/tf/function for  more details.\n",
      "Epoch 1/7\n",
      "120/120 [==============================] - 4s 13ms/step - loss: 0.0270 - val_loss: 9.8051e-04\n",
      "Epoch 2/7\n",
      "120/120 [==============================] - 1s 5ms/step - loss: 0.0016 - val_loss: 8.7612e-04\n",
      "Epoch 3/7\n",
      "120/120 [==============================] - 0s 4ms/step - loss: 0.0015 - val_loss: 7.3687e-04\n",
      "Epoch 4/7\n",
      "120/120 [==============================] - 0s 4ms/step - loss: 0.0014 - val_loss: 6.5712e-04\n",
      "Epoch 5/7\n",
      "120/120 [==============================] - 0s 4ms/step - loss: 0.0014 - val_loss: 6.2634e-04\n",
      "Epoch 6/7\n",
      "120/120 [==============================] - 0s 4ms/step - loss: 0.0013 - val_loss: 6.2313e-04\n",
      "Epoch 7/7\n",
      "120/120 [==============================] - 1s 4ms/step - loss: 0.0013 - val_loss: 6.2822e-04\n"
     ]
    },
    {
     "data": {
      "text/plain": [
       "'\\nresultados = [valor for valor in forecast[0]]    \\nobjeto = objeto.replace(\" \",\\'_\\')\\noutput = {objeto.lower():str(resultados)}\\nfilename = f\"previsao_DeepLSTM_{objeto.lower()}_{regiao.lower()}_{forecast_horizon}_meses.json\"\\npasta_atual = os.getcwd()\\nfull_url = Path(pasta_atual) / \\'resultados\\' / \\'previsoes\\' / filename\\nos.makedirs(os.path.dirname(full_url), exist_ok=True)\\nwith open(full_url,\"w\") as file:\\n    json.dump(output,file,ensure_ascii=False)\\nprint(\"Arquivo com resultados gerados\")\\n'"
      ]
     },
     "execution_count": 2,
     "metadata": {},
     "output_type": "execute_result"
    }
   ],
   "source": [
    "look_back = 12 #Quantidade de meses anteriores usado para prever\n",
    "forecast_horizon = int(configs[\"DEFAULT\"][\"meses\"]) #Quantidade de meses previstos\n",
    "\n",
    "model_mape = []\n",
    "model_rmse = []\n",
    "\n",
    "for i in range(0,7):\n",
    "\n",
    "    #Carrega os dados\n",
    "    cesta = pd.read_excel(path)\n",
    "    cesta.drop(['ano', 'salario', 'preco'], axis=1, inplace=True)\n",
    "\n",
    "    #Cria sequencia de dados do tamanho (meses anterioes + meses a serem previstos)\n",
    "    for n_step in range(1, look_back + forecast_horizon):\n",
    "        cesta[f'razao t(h + {n_step})'] = cesta['razao'].shift(-n_step).values\n",
    "    cesta.dropna(inplace=True)\n",
    "    cesta.reset_index(drop=True, inplace=True)\n",
    "\n",
    "    #Divide os dados em Treino e Teste\n",
    "    X_train = cesta.iloc[:-67:, :look_back:].values\n",
    "    y_train = cesta.iloc[:-67:, look_back::].values\n",
    "    X_val = cesta.iloc[-67:-37:, :look_back:].values\n",
    "    y_val = cesta.iloc[-67:-37:, look_back::].values\n",
    "    y_val2 = cesta.iloc[-67:-37:, look_back::].values.tolist()\n",
    "\n",
    "    #remodela os dados para formato (batchs, months, features)\n",
    "    X_train = X_train.reshape((X_train.shape[0], X_train.shape[1], 1))\n",
    "    X_val = X_val.reshape((X_val.shape[0], X_val.shape[1], 1))\n",
    "\n",
    "    #Cria o modelo\n",
    "    model=Sequential()\n",
    "    model.add(LSTM(32, input_shape=(look_back,1),return_sequences=True))\n",
    "    model.add(LSTM(32))\n",
    "    model.add(Dense(forecast_horizon))\n",
    "    model.compile(loss='mean_squared_error', optimizer='adam')\n",
    "\n",
    "    #Treina e pever (forecast_horizon) quantidade de tempo\n",
    "    history = model.fit(X_train, y_train, epochs= 7, batch_size=1, shuffle=False,validation_data=(X_val, y_val))\n",
    "    forecast = model.predict(X_val)\n",
    "\n",
    "    model_rmse.append(RMSE(y_val2, forecast))\n",
    "    model_mape.append(MAPE(y_val2, forecast) * 100)\n",
    "\n",
    "model_mape.sort()\n",
    "model_rmse.sort()\n",
    "model_mape.pop()\n",
    "del model_mape[0]\n",
    "model_rmse.pop()\n",
    "del model_rmse[0]\n",
    "\n",
    "mean_rmse = 0\n",
    "mean_mape = 0\n",
    "\n",
    "for rmse, mape in zip(model_rmse, model_mape):\n",
    "    mean_rmse += rmse\n",
    "    mean_mape += mape\n",
    "\n",
    "mean_rmse = mean_rmse / 5\n",
    "mean_mape = mean_mape / 5\n",
    "\n",
    "\"\"\"\n",
    "resultados = [valor for valor in forecast[0]]    \n",
    "objeto = objeto.replace(\" \",'_')\n",
    "output = {objeto.lower():str(resultados)}\n",
    "filename = f\"previsao_DeepLSTM_{objeto.lower()}_{regiao.lower()}_{forecast_horizon}_meses.json\"\n",
    "pasta_atual = os.getcwd()\n",
    "full_url = Path(pasta_atual) / 'resultados' / 'previsoes' / filename\n",
    "os.makedirs(os.path.dirname(full_url), exist_ok=True)\n",
    "with open(full_url,\"w\") as file:\n",
    "    json.dump(output,file,ensure_ascii=False)\n",
    "print(\"Arquivo com resultados gerados\")\n",
    "\"\"\""
   ]
  },
  {
   "cell_type": "code",
   "execution_count": 3,
   "metadata": {},
   "outputs": [
    {
     "name": "stdout",
     "output_type": "stream",
     "text": [
      "MAPE =  5.81026\n",
      "RMSE =  0.02453\n"
     ]
    }
   ],
   "source": [
    "print(\"MAPE = \", round(mean_mape, 5))\n",
    "print(\"RMSE = \", round(mean_rmse, 5))"
   ]
  },
  {
   "cell_type": "code",
   "execution_count": 4,
   "metadata": {},
   "outputs": [
    {
     "data": {
      "text/plain": [
       "Text(0, 0.5, 'Loss')"
      ]
     },
     "execution_count": 4,
     "metadata": {},
     "output_type": "execute_result"
    },
    {
     "data": {
      "image/png": "[encoded data removed]",
      "text/plain": [
       "<Figure size 1152x576 with 1 Axes>"
      ]
     },
     "metadata": {
      "needs_background": "light"
     },
     "output_type": "display_data"
    }
   ],
   "source": [
    "\n",
    "import matplotlib.pyplot as plt\n",
    "\n",
    "training_loss = history.history[\"loss\"]\n",
    "test_loss = history.history[\"val_loss\"]\n",
    "\n",
    "epoch_count = range(1, len(training_loss) + 1)\n",
    "\n",
    "# Visualize loss history\n",
    "fig = plt.figure(figsize=(16, 8))\n",
    "plt.plot(epoch_count, training_loss, \"r--\")\n",
    "plt.plot(epoch_count, test_loss, \"b-\")\n",
    "plt.legend([\"Training Loss\", \"Test Loss\"])\n",
    "plt.xlabel(\"Epoch\")\n",
    "plt.ylabel(\"Loss\")\n"
   ]
  }
 ],
 "metadata": {
  "interpreter": {
   "hash": "71c2b24aafc8a8796b4f99b2c29123ee74f9b1594e19e841502a891efc383784"
  },
  "kernelspec": {
   "display_name": "Python 3.8.10 64-bit ('cesta': conda)",
   "language": "python",
   "name": "python3"
  },
  "language_info": {
   "codemirror_mode": {
    "name": "ipython",
    "version": 3
   },
   "file_extension": ".py",
   "mimetype": "text/x-python",
   "name": "python",
   "nbconvert_exporter": "python",
   "pygments_lexer": "ipython3",
   "version": "3.8.10"
  },
  "orig_nbformat": 4
 },
 "nbformat": 4,
 "nbformat_minor": 2
}
