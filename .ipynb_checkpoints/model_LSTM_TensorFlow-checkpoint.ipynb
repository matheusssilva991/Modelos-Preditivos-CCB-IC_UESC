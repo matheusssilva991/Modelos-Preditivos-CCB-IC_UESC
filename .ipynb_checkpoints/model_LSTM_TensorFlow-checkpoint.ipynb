{
 "cells": [
  {
   "cell_type": "code",
   "execution_count": 1,
   "metadata": {
    "ExecuteTime": {
     "end_time": "2022-06-24T23:30:52.810521Z",
     "start_time": "2022-06-24T23:30:49.692520Z"
    },
    "pycharm": {
     "name": "#%%\n"
    }
   },
   "outputs": [],
   "source": [
    "import tensorflow as tf\n",
    "import pandas as pd\n",
    "import json\n",
    "import configparser\n",
    "from pathlib import Path\n",
    "import os\n",
    "\n",
    "from sklearn.metrics import mean_absolute_percentage_error as MAPE\n",
    "\n",
    "from tensorflow.keras.models import Sequential\n",
    "from tensorflow.keras.layers import Dense\n",
    "from tensorflow.keras.layers import LSTM\n",
    "\n",
    "configs = configparser.ConfigParser()\n",
    "configs.read(\"configuracoes.conf\",encoding='utf-8')\n",
    "data_folder = Path(configs[\"DEFAULT\"][\"folder_path\"])\n",
    "path = data_folder / configs[\"DEFAULT\"][\"file\"]\n",
    "objeto = configs[\"DEFAULT\"][\"objeto\"]\n",
    "regiao = configs[\"DEFAULT\"][\"regiao\"]\n",
    "\n",
    "look_back = 12 #Quantidade de meses anteriores usado para prever\n",
    "forecast_horizon = int(configs[\"DEFAULT\"][\"meses\"]) #Quantidade de meses previstos"
   ]
  },
  {
   "cell_type": "markdown",
   "metadata": {
    "pycharm": {
     "name": "#%% md\n"
    }
   },
   "source": [
    "# Prever 3 meses"
   ]
  },
  {
   "cell_type": "code",
   "execution_count": 2,
   "metadata": {
    "pycharm": {
     "name": "#%%\n"
    }
   },
   "outputs": [
    {
     "data": {
      "text/plain": [
       "'\\n#Carrega os dados\\ncesta = pd.read_excel(path)\\ncesta.drop([\\'ano\\', \\'salario\\', \\'razao\\'], axis=1, inplace=True)\\ncesta = cesta / 1000\\n\\n#Cria sequencias de tempo de tamanho (meses anteriores + meses a serem previstos)\\nfor n_step in range(1, look_back + forecast_horizon):\\n    cesta[f\\'preco t(h + {n_step})\\'] = cesta[\\'preco\\'].shift(-n_step).values\\ncesta.dropna(inplace=True)\\ncesta.reset_index(drop=True, inplace=True)\\n\\n#Divide os dados em Treino e Teste\\nX_train = cesta.iloc[:-1:, :look_back:].values\\ny_train = cesta.iloc[:-1:, look_back::].values\\nX_val = cesta.iloc[-1::, :look_back:].values\\ny_val = cesta.iloc[-1::, look_back::].values\\ny_val2 = cesta.iloc[-1::, look_back::].values.tolist()\\n\\n#remodela os dados para formato (batches, sequencia de tempo, features)\\nX_train = X_train.reshape((X_train.shape[0], X_train.shape[1], 1))\\nX_val = X_val.reshape((X_val.shape[0], X_val.shape[1], 1))\\n\\n#Cria o modelo\\nmodel=Sequential()\\nmodel.add(LSTM(64, input_shape=(look_back,1), stateful=True, batch_input_shape=(1, look_back, 1)))\\nmodel.add(Dense(forecast_horizon))\\nmodel.compile(loss=\\'mean_squared_error\\', optimizer=tf.keras.optimizers.Adam(learning_rate=0.0003))\\n\\n#Treina e prever (forecast_horizon) quantidade de tempo\\nhistory = model.fit(X_train, y_train, epochs= 200, batch_size=1, shuffle=False)\\nforecast = model.predict(X_val, batch_size=1)\\n\\nresultados = [valor for valor in forecast[0]]\\nobjeto = objeto.replace(\" \",\\'_\\')\\noutput = {objeto.lower():str(resultados)}\\nfilename = f\"previsao_LSTM_{objeto.lower()}_{regiao.lower()}_{forecast_horizon}_meses.json\"\\npasta_atual = os.getcwd()\\nfull_url = Path(pasta_atual) / \\'resultados\\' / \\'previsoes\\' / filename\\nos.makedirs(os.path.dirname(full_url), exist_ok=True)\\nwith open(full_url,\"w\") as file:\\n    json.dump(output,file,ensure_ascii=False)\\nprint(\"Arquivo com resultados gerados\")'"
      ]
     },
     "execution_count": 2,
     "metadata": {},
     "output_type": "execute_result"
    }
   ],
   "source": [
    "\"\"\"\n",
    "#Carrega os dados\n",
    "cesta = pd.read_excel(path)\n",
    "cesta.drop(['ano', 'salario', 'razao'], axis=1, inplace=True)\n",
    "cesta = cesta / 1000\n",
    "\n",
    "#Cria sequencias de tempo de tamanho (meses anteriores + meses a serem previstos)\n",
    "for n_step in range(1, look_back + forecast_horizon):\n",
    "    cesta[f'preco t(h + {n_step})'] = cesta['preco'].shift(-n_step).values\n",
    "cesta.dropna(inplace=True)\n",
    "cesta.reset_index(drop=True, inplace=True)\n",
    "\n",
    "#Divide os dados em Treino e Teste\n",
    "X_train = cesta.iloc[:-1:, :look_back:].values\n",
    "y_train = cesta.iloc[:-1:, look_back::].values\n",
    "X_val = cesta.iloc[-1::, :look_back:].values\n",
    "y_val = cesta.iloc[-1::, look_back::].values\n",
    "y_val2 = cesta.iloc[-1::, look_back::].values.tolist()\n",
    "\n",
    "#remodela os dados para formato (batches, sequencia de tempo, features)\n",
    "X_train = X_train.reshape((X_train.shape[0], X_train.shape[1], 1))\n",
    "X_val = X_val.reshape((X_val.shape[0], X_val.shape[1], 1))\n",
    "\n",
    "#Cria o modelo\n",
    "model=Sequential()\n",
    "model.add(LSTM(64, input_shape=(look_back,1), stateful=True, batch_input_shape=(1, look_back, 1)))\n",
    "model.add(Dense(forecast_horizon))\n",
    "model.compile(loss='mean_squared_error', optimizer=tf.keras.optimizers.Adam(learning_rate=0.0003))\n",
    "\n",
    "#Treina e prever (forecast_horizon) quantidade de tempo\n",
    "history = model.fit(X_train, y_train, epochs= 200, batch_size=1, shuffle=False)\n",
    "forecast = model.predict(X_val, batch_size=1)\n",
    "\n",
    "resultados = [valor for valor in forecast[0]]\n",
    "objeto = objeto.replace(\" \",'_')\n",
    "output = {objeto.lower():str(resultados)}\n",
    "filename = f\"previsao_LSTM_{objeto.lower()}_{regiao.lower()}_{forecast_horizon}_meses.json\"\n",
    "pasta_atual = os.getcwd()\n",
    "full_url = Path(pasta_atual) / 'resultados' / 'previsoes' / filename\n",
    "os.makedirs(os.path.dirname(full_url), exist_ok=True)\n",
    "with open(full_url,\"w\") as file:\n",
    "    json.dump(output,file,ensure_ascii=False)\n",
    "print(\"Arquivo com resultados gerados\")\"\"\"\n"
   ]
  },
  {
   "cell_type": "markdown",
   "metadata": {
    "pycharm": {
     "name": "#%% md\n"
    }
   },
   "source": [
    "# Avaliar o modelo"
   ]
  },
  {
   "cell_type": "code",
   "execution_count": 15,
   "metadata": {
    "ExecuteTime": {
     "end_time": "2022-06-24T23:37:41.950503Z",
     "start_time": "2022-06-24T23:37:39.864789Z"
    },
    "pycharm": {
     "name": "#%%\n"
    }
   },
   "outputs": [
    {
     "name": "stdout",
     "output_type": "stream",
     "text": [
      "[[[0.37126]\n",
      "  [0.36819]\n",
      "  [0.34147]\n",
      "  [0.38194]\n",
      "  [0.38946]\n",
      "  [0.42539]\n",
      "  [0.43489]\n",
      "  [0.40932]\n",
      "  [0.40466]\n",
      "  [0.41724]\n",
      "  [0.39468]\n",
      "  [0.39775]]\n",
      "\n",
      " [[0.36819]\n",
      "  [0.34147]\n",
      "  [0.38194]\n",
      "  [0.38946]\n",
      "  [0.42539]\n",
      "  [0.43489]\n",
      "  [0.40932]\n",
      "  [0.40466]\n",
      "  [0.41724]\n",
      "  [0.39468]\n",
      "  [0.39775]\n",
      "  [0.4162 ]]\n",
      "\n",
      " [[0.34147]\n",
      "  [0.38194]\n",
      "  [0.38946]\n",
      "  [0.42539]\n",
      "  [0.43489]\n",
      "  [0.40932]\n",
      "  [0.40466]\n",
      "  [0.41724]\n",
      "  [0.39468]\n",
      "  [0.39775]\n",
      "  [0.4162 ]\n",
      "  [0.4267 ]]\n",
      "\n",
      " [[0.38194]\n",
      "  [0.38946]\n",
      "  [0.42539]\n",
      "  [0.43489]\n",
      "  [0.40932]\n",
      "  [0.40466]\n",
      "  [0.41724]\n",
      "  [0.39468]\n",
      "  [0.39775]\n",
      "  [0.4162 ]\n",
      "  [0.4267 ]\n",
      "  [0.42044]]\n",
      "\n",
      " [[0.38946]\n",
      "  [0.42539]\n",
      "  [0.43489]\n",
      "  [0.40932]\n",
      "  [0.40466]\n",
      "  [0.41724]\n",
      "  [0.39468]\n",
      "  [0.39775]\n",
      "  [0.4162 ]\n",
      "  [0.4267 ]\n",
      "  [0.42044]\n",
      "  [0.42843]]\n",
      "\n",
      " [[0.42539]\n",
      "  [0.43489]\n",
      "  [0.40932]\n",
      "  [0.40466]\n",
      "  [0.41724]\n",
      "  [0.39468]\n",
      "  [0.39775]\n",
      "  [0.4162 ]\n",
      "  [0.4267 ]\n",
      "  [0.42044]\n",
      "  [0.42843]\n",
      "  [0.44313]]]\n",
      "[[0.4162  0.4267  0.42044]\n",
      " [0.4267  0.42044 0.42843]\n",
      " [0.42044 0.42843 0.44313]\n",
      " [0.42843 0.44313 0.48265]\n",
      " [0.44313 0.48265 0.47852]\n",
      " [0.48265 0.47852 0.48287]]\n"
     ]
    }
   ],
   "source": [
    "number_iter = 1\n",
    "\n",
    "cross_validate_mapes = [[] for i in range(number_iter)]\n",
    "\n",
    "for j in range(number_iter):\n",
    "    i = 0\n",
    "    while i < 36:\n",
    "\n",
    "        #Carrega os dados\n",
    "        cesta = pd.read_excel(path)\n",
    "        cesta.drop(['ano', 'salario', 'razao'], axis=1, inplace=True)\n",
    "        cesta = cesta / 1000\n",
    "\n",
    "        #Cria sequencias de tempo de tamanho (meses anteriores + meses a serem previstos)\n",
    "        for n_step in range(1, look_back + forecast_horizon):\n",
    "            cesta[f'preco t(h + {n_step})'] = cesta['preco'].shift(-n_step).values\n",
    "        cesta.dropna(inplace=True)\n",
    "        cesta.reset_index(drop=True, inplace=True)\n",
    "\n",
    "        #Divide os dados em Treino e Teste\n",
    "        #Validação\n",
    "        #X_train = cesta.iloc[:124 + i:, :look_back:].values\n",
    "        #y_train = cesta.iloc[:124 + i:, look_back::].values\n",
    "        #X_val = cesta.iloc[124 + i: 124 + i + 6:, :look_back:].values\n",
    "        #y_val = cesta.iloc[124 + i: 124 + i + 6, look_back::].values\n",
    "        #y_val2 = cesta.iloc[124 + i: 124 + i + 6:, look_back::].values.tolist()\n",
    "\n",
    "        #Teste\n",
    "        X_train = cesta.iloc[:154 + i:, :look_back:].values\n",
    "        y_train = cesta.iloc[:154 + i:, look_back::].values\n",
    "        X_val = cesta.iloc[154 + i: 154 + i + 6:, :look_back:].values\n",
    "        y_val = cesta.iloc[154 + i: 154 + i + 6:, look_back::].values\n",
    "        y_val2 = cesta.iloc[154 + i: 154 + i + 6:, look_back::].values.tolist()\n",
    "\n",
    "        i += 6\n",
    "        #remodela os dados para formato (batches, sequencia de tempo, features)\n",
    "        X_train = X_train.reshape((X_train.shape[0], X_train.shape[1], 1))\n",
    "        X_val = X_val.reshape((X_val.shape[0], X_val.shape[1], 1))\n",
    "        #print(X_val, \"\\n\")\n",
    "\n",
    "        #Cria o modelo\n",
    "        model=Sequential()\n",
    "        model.add(LSTM(64, stateful=True, input_shape=(look_back, 1), batch_input_shape=(1, look_back, 1)))\n",
    "        model.add(Dense(forecast_horizon))\n",
    "        model.compile(loss='mean_squared_error', optimizer=tf.keras.optimizers.Adam(learning_rate=0.0003))\n",
    "\n",
    "        #Treina e prever (forecast_horizon) quantidade de tempo\n",
    "        #history = model.fit(X_train, y_train, epochs= 20, batch_size=1, shuffle=False, validation_data=(X_val, y_val))\n",
    "        #forecast = model.predict(X_val, batch_size=1)\n",
    "\n",
    "        #cross_validate_mapes[j].append(MAPE(y_val2, forecast) * 100)\n",
    "print(X_val)\n",
    "print(y_val)"
   ]
  },
  {
   "cell_type": "code",
   "execution_count": null,
   "metadata": {
    "pycharm": {
     "name": "#%%\n"
    }
   },
   "outputs": [],
   "source": [
    "\n",
    "print(\"cross_validate_mapes: \", cross_validate_mapes)\n",
    "cross_validate_means = []\n",
    "\n",
    "for current_mapes in cross_validate_mapes.copy():\n",
    "    mean = 0\n",
    "    for mape in current_mapes:\n",
    "        mean += mape\n",
    "\n",
    "    mean /= len(current_mapes)\n",
    "    cross_validate_means.append(mean)\n",
    "\n",
    "if len(cross_validate_means) >= 3:\n",
    "    cross_validate_means.sort()\n",
    "    cross_validate_means.pop()\n",
    "    del cross_validate_means[0]\n",
    "\n",
    "print(\"cross_validate_means: \", cross_validate_means)\n",
    "\n",
    "general_mean = 0\n",
    "for mean in cross_validate_means:\n",
    "    general_mean += mean\n",
    "general_mean /= len(cross_validate_means)\n",
    "\n",
    "print(\"MAPE = \", round(general_mean, 3))\n"
   ]
  }
 ],
 "metadata": {
  "kernelspec": {
   "display_name": "Python 3 (ipykernel)",
   "language": "python",
   "name": "python3"
  },
  "language_info": {
   "codemirror_mode": {
    "name": "ipython",
    "version": 3
   },
   "file_extension": ".py",
   "mimetype": "text/x-python",
   "name": "python",
   "nbconvert_exporter": "python",
   "pygments_lexer": "ipython3",
   "version": "3.8.10"
  },
  "vscode": {
   "interpreter": {
    "hash": "4c8cfff8af0e30968d2414d89ba4bd2a83bc5003522a462a33742c5deaab3275"
   }
  }
 },
 "nbformat": 4,
 "nbformat_minor": 2
}
