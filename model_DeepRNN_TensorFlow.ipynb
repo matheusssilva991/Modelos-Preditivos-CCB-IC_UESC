{
 "cells": [
  {
   "cell_type": "code",
   "execution_count": 1,
   "metadata": {},
   "outputs": [],
   "source": [
    "import matplotlib.pyplot as plt\n",
    "import numpy as np\n",
    "import tensorflow as tf\n",
    "import pandas as pd\n",
    "import json\n",
    "import configparser\n",
    "from pathlib import Path\n",
    "import os\n",
    "\n",
    "from tensorflow import keras\n",
    "from tensorflow.keras.models import Sequential\n",
    "from tensorflow.keras.layers import Dense\n",
    "from tensorflow.keras.layers import SimpleRNN\n",
    "\n",
    "configs = configparser.ConfigParser()\n",
    "configs.read(\"configuracoes.conf\",encoding='utf-8')\n",
    "data_folder = Path(configs[\"DEFAULT\"][\"folder_path\"])\n",
    "path = data_folder / configs[\"DEFAULT\"][\"file\"]\n",
    "objeto = configs[\"DEFAULT\"][\"objeto\"]\n",
    "regiao = configs[\"DEFAULT\"][\"regiao\"]"
   ]
  },
  {
   "cell_type": "code",
   "execution_count": 2,
   "metadata": {},
   "outputs": [
    {
     "name": "stdout",
     "output_type": "stream",
     "text": [
      "Epoch 1/12\n",
      "186/186 [==============================] - 2s 2ms/step - loss: 0.0052\n",
      "Epoch 2/12\n",
      "186/186 [==============================] - 0s 2ms/step - loss: 0.0017\n",
      "Epoch 3/12\n",
      "186/186 [==============================] - 0s 3ms/step - loss: 0.0014\n",
      "Epoch 4/12\n",
      "186/186 [==============================] - 0s 2ms/step - loss: 0.0014\n",
      "Epoch 5/12\n",
      "186/186 [==============================] - 0s 3ms/step - loss: 0.0014\n",
      "Epoch 6/12\n",
      "186/186 [==============================] - 0s 3ms/step - loss: 0.0016\n",
      "Epoch 7/12\n",
      "186/186 [==============================] - 0s 2ms/step - loss: 0.0016\n",
      "Epoch 8/12\n",
      "186/186 [==============================] - 1s 3ms/step - loss: 0.0015\n",
      "Epoch 9/12\n",
      "186/186 [==============================] - 0s 2ms/step - loss: 0.0016A: 0s - loss: 0.0\n",
      "Epoch 10/12\n",
      "186/186 [==============================] - 0s 2ms/step - loss: 0.0016\n",
      "Epoch 11/12\n",
      "186/186 [==============================] - 0s 2ms/step - loss: 0.0017\n",
      "Epoch 12/12\n",
      "186/186 [==============================] - 0s 2ms/step - loss: 0.0017\n",
      "Arquivo com resultados gerados\n"
     ]
    }
   ],
   "source": [
    "look_back = 12 #Quantidade de meses anteriores usado para prever\n",
    "forecast_horizon = int(configs[\"DEFAULT\"][\"meses\"]) #Quantidade de meses previstos\n",
    "\n",
    "#Carrega os dados\n",
    "cesta = pd.read_excel(path)\n",
    "cesta.drop(['ano', 'salario', 'preco'], axis=1, inplace=True)\n",
    "\n",
    "#Cria sequencia de dados do tamanho (meses anterioes + meses a serem previstos)\n",
    "for n_step in range(1, look_back + forecast_horizon):\n",
    "    cesta[f'razao t(h + {n_step})'] = cesta['razao'].shift(-n_step).values\n",
    "cesta.dropna(inplace=True)\n",
    "cesta.reset_index(drop=True, inplace=True)\n",
    "\n",
    "#Divide os dados em Treino e Teste\n",
    "X_train = cesta.iloc[:-1:, :look_back:].values\n",
    "y_train = cesta.iloc[:-1:, look_back::].values\n",
    "X_val = cesta.iloc[-1::, :look_back:].values\n",
    "y_val = cesta.iloc[-1::, look_back::].values\n",
    "\n",
    "#remodela os dados para formato (batchs, months, features)\n",
    "X_train = X_train.reshape((X_train.shape[0], X_train.shape[1], 1))\n",
    "X_val = X_val.reshape((X_val.shape[0], X_val.shape[1], 1))\n",
    "\n",
    "#Cria o modelo\n",
    "model=Sequential()\n",
    "model.add(SimpleRNN(64, input_shape=(look_back,1),return_sequences=True))\n",
    "model.add(SimpleRNN(32))\n",
    "model.add(Dense(forecast_horizon))\n",
    "model.compile(loss='mean_squared_error', optimizer='adam')\n",
    "\n",
    "#Treina e pever (forecast_horizon) quantidade de tempo\n",
    "history = model.fit(X_train, y_train, epochs= 12, batch_size=1, shuffle=False)#, validation_data=(X_val, y_val))\n",
    "forecast = model.predict(X_val)\n",
    "\n",
    "resultados = [valor for valor in forecast[0]]   \n",
    "objeto = objeto.replace(\" \",'_')\n",
    "output = {objeto.lower():str(resultados)}\n",
    "filename = f\"previsao_DeepRNN_{objeto.lower()}_{regiao.lower()}_{forecast_horizon}_meses.json\"\n",
    "pasta_atual = os.getcwd()\n",
    "full_url = Path(pasta_atual) / 'resultados' / 'previsoes' / filename\n",
    "os.makedirs(os.path.dirname(full_url), exist_ok=True)\n",
    "with open(full_url,\"w\") as file:\n",
    "    json.dump(output,file,ensure_ascii=False)\n",
    "print(\"Arquivo com resultados gerados\")"
   ]
  },
  {
   "cell_type": "code",
   "execution_count": 3,
   "metadata": {},
   "outputs": [
    {
     "data": {
      "text/plain": [
       "'\\nimport matplotlib.pyplot as plt\\n\\ntraining_loss = history.history[\"loss\"]\\ntest_loss = history.history[\"val_loss\"]\\n\\nepoch_count = range(1, len(training_loss) + 1)\\n\\n# Visualize loss history\\nfig = plt.figure(figsize=(16, 8))\\nplt.plot(epoch_count, training_loss, \"r--\")\\nplt.plot(epoch_count, test_loss, \"b-\")\\nplt.legend([\"Training Loss\", \"Test Loss\"])\\nplt.xlabel(\"Epoch\")\\nplt.ylabel(\"Loss\")\\n'"
      ]
     },
     "execution_count": 3,
     "metadata": {},
     "output_type": "execute_result"
    }
   ],
   "source": [
    "\"\"\"\n",
    "import matplotlib.pyplot as plt\n",
    "\n",
    "training_loss = history.history[\"loss\"]\n",
    "test_loss = history.history[\"val_loss\"]\n",
    "\n",
    "epoch_count = range(1, len(training_loss) + 1)\n",
    "\n",
    "# Visualize loss history\n",
    "fig = plt.figure(figsize=(16, 8))\n",
    "plt.plot(epoch_count, training_loss, \"r--\")\n",
    "plt.plot(epoch_count, test_loss, \"b-\")\n",
    "plt.legend([\"Training Loss\", \"Test Loss\"])\n",
    "plt.xlabel(\"Epoch\")\n",
    "plt.ylabel(\"Loss\")\n",
    "\"\"\""
   ]
  }
 ],
 "metadata": {
  "interpreter": {
   "hash": "71c2b24aafc8a8796b4f99b2c29123ee74f9b1594e19e841502a891efc383784"
  },
  "kernelspec": {
   "display_name": "Python 3.8.10 64-bit ('cesta': conda)",
   "language": "python",
   "name": "python3"
  },
  "language_info": {
   "codemirror_mode": {
    "name": "ipython",
    "version": 3
   },
   "file_extension": ".py",
   "mimetype": "text/x-python",
   "name": "python",
   "nbconvert_exporter": "python",
   "pygments_lexer": "ipython3",
   "version": "3.8.10"
  },
  "orig_nbformat": 4
 },
 "nbformat": 4,
 "nbformat_minor": 2
}
