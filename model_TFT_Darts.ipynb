{
 "cells": [
  {
   "cell_type": "code",
   "execution_count": 1,
   "id": "eec2b180",
   "metadata": {},
   "outputs": [
    {
     "name": "stderr",
     "output_type": "stream",
     "text": [
      "Importing plotly failed. Interactive plots will not work.\n"
     ]
    }
   ],
   "source": [
    "import numpy as np\n",
    "import pandas as pd\n",
    "import matplotlib.pyplot as plt\n",
    "import json\n",
    "import configparser\n",
    "from pathlib import Path\n",
    "import os\n",
    "%matplotlib inline\n",
    "\n",
    "from darts import TimeSeries\n",
    "from darts.models import TFTModel\n",
    "from darts.metrics import mae, mse, rmse, mape\n",
    "from darts.utils.statistics import check_seasonality"
   ]
  },
  {
   "cell_type": "code",
   "execution_count": 2,
   "id": "12fd45ef",
   "metadata": {},
   "outputs": [],
   "source": [
    "configs = configparser.ConfigParser()\n",
    "configs.read(\"configuracoes.conf\",encoding='utf-8')\n",
    "\n",
    "data_folder = Path(configs[\"DEFAULT\"][\"folder_path\"])\n",
    "path = data_folder / configs[\"DEFAULT\"][\"file\"]\n",
    "qtd_Meses = int(configs[\"DEFAULT\"][\"meses\"])\n",
    "objeto = configs[\"DEFAULT\"][\"objeto\"]\n",
    "regiao = configs[\"DEFAULT\"][\"regiao\"]\n",
    "\n",
    "df = pd.read_excel(path, parse_dates=['ano'])\n",
    "\n",
    "#Dividir os dados em Treino e Validação\n",
    "train_cesta = df.iloc[: -qtd_Meses:]\n",
    "val_cesta = df.iloc[-qtd_Meses::]\n",
    "\n",
    "#Criar TimeSeries usando os DataFrame\n",
    "train_cesta = TimeSeries.from_dataframe(train_cesta, 'ano', 'razao')\n",
    "val_cesta = TimeSeries.from_dataframe(val_cesta, 'ano', 'razao')\n",
    "cesta = TimeSeries.from_dataframe(df.iloc[:-qtd_Meses:], 'ano', 'razao')\n",
    "\n",
    "#ajustar dados para grafico\n",
    "grafico_train = df.iloc[3 * -qtd_Meses::].copy()\n",
    "grafico_train = grafico_train.iloc[:-qtd_Meses + 1:].copy()\n",
    "grafico_train.reset_index(drop=True, inplace=True)\n",
    "grafico_val = df.iloc[-qtd_Meses::].copy()"
   ]
  },
  {
   "cell_type": "code",
   "execution_count": 3,
   "id": "abe5202e",
   "metadata": {},
   "outputs": [
    {
     "name": "stdout",
     "output_type": "stream",
     "text": [
      "sazonalidade com lag de 36\n"
     ]
    }
   ],
   "source": [
    "for lag in range(2, 64):\n",
    "    season = check_seasonality(ts=train_cesta, m = lag, max_lag=64)\n",
    "    if season[0]:\n",
    "        print(\"sazonalidade com lag de\", season[1])\n",
    "        break"
   ]
  },
  {
   "cell_type": "code",
   "execution_count": 4,
   "id": "7223aab7",
   "metadata": {},
   "outputs": [
    {
     "name": "stderr",
     "output_type": "stream",
     "text": [
      "[2022-03-03 10:12:06,949] INFO | darts.models.forecasting.torch_forecasting_model | Train dataset contains 145 samples.\n",
      "[2022-03-03 10:12:06,949] INFO | darts.models.forecasting.torch_forecasting_model | Train dataset contains 145 samples.\n",
      "[2022-03-03 10:12:06,966] INFO | darts.models.forecasting.torch_forecasting_model | Time series values are 64-bits; casting model to float64.\n",
      "[2022-03-03 10:12:06,966] INFO | darts.models.forecasting.torch_forecasting_model | Time series values are 64-bits; casting model to float64.\n",
      "GPU available: False, used: False\n",
      "TPU available: False, using: 0 TPU cores\n",
      "IPU available: False, using: 0 IPUs\n",
      "\n",
      "   | Name                              | Type                             | Params\n",
      "----------------------------------------------------------------------------------------\n",
      "0  | static_covariates_vsn             | _VariableSelectionNetwork        | 0     \n",
      "1  | encoder_vsn                       | _VariableSelectionNetwork        | 1.5 K \n",
      "2  | decoder_vsn                       | _VariableSelectionNetwork        | 712   \n",
      "3  | static_context_grn                | _GatedResidualNetwork            | 2.4 K \n",
      "4  | static_context_hidden_encoder_grn | _GatedResidualNetwork            | 2.4 K \n",
      "5  | static_context_cell_encoder_grn   | _GatedResidualNetwork            | 2.4 K \n",
      "6  | static_context_enrichment         | _GatedResidualNetwork            | 2.4 K \n",
      "7  | lstm_encoder                      | LSTM                             | 4.8 K \n",
      "8  | lstm_decoder                      | LSTM                             | 4.8 K \n",
      "9  | post_lstm_gan                     | _GateAddNorm                     | 1.2 K \n",
      "10 | static_enrichment_grn             | _GatedResidualNetwork            | 3.0 K \n",
      "11 | multihead_attn                    | _InterpretableMultiHeadAttention | 1.5 K \n",
      "12 | post_attn_gan                     | _GateAddNorm                     | 1.2 K \n",
      "13 | positionwise_feedforward_grn      | _GatedResidualNetwork            | 2.4 K \n",
      "14 | pre_output_gan                    | _GateAddNorm                     | 1.2 K \n",
      "15 | output_layer                      | Linear                           | 425   \n",
      "----------------------------------------------------------------------------------------\n",
      "32.8 K    Trainable params\n",
      "0         Non-trainable params\n",
      "32.8 K    Total params\n",
      "0.262     Total estimated model params size (MB)\n"
     ]
    },
    {
     "name": "stdout",
     "output_type": "stream",
     "text": [
      "Epoch 199: 100%|██████████| 5/5 [00:00<00:00, 16.77it/s, loss=0.105]\n",
      "Predicting: 5it [00:00, ?it/s]\n",
      "\n",
      "MAE : 0.08732\n",
      "MSE :0.00773\n",
      "RMSE :0.08793\n",
      "MAPE :20.248%\n"
     ]
    },
    {
     "data": {
      "text/plain": [
       "<matplotlib.legend.Legend at 0x2e0e941ed00>"
      ]
     },
     "execution_count": 4,
     "metadata": {},
     "output_type": "execute_result"
    },
    {
     "data": {
      "image/png": "[encoded data removed]",
      "text/plain": [
       "<Figure size 1152x576 with 1 Axes>"
      ]
     },
     "metadata": {
      "needs_background": "light"
     },
     "output_type": "display_data"
    }
   ],
   "source": [
    "model_TFT = TFTModel(input_chunk_length = 48, output_chunk_length= qtd_Meses, n_epochs = 200, \n",
    "            dropout=0.2, hidden_size = 24, add_relative_index=True, lstm_layers=1) \n",
    "\n",
    "model_TFT.fit(series = [train_cesta])\n",
    "forecast = model_TFT.predict(len(val_cesta), series = train_cesta)\n",
    "\n",
    "print('\\nMAE : {:.5f}\\nMSE :{:.5f}\\nRMSE :{:.5f}\\nMAPE :{:.3f}%'.format(mae(val_cesta, forecast),\n",
    "        mse(val_cesta, forecast), rmse(val_cesta, forecast), mape(val_cesta, forecast)))\n",
    "\n",
    "forecast = forecast.pd_dataframe()\n",
    "forecast.reset_index(inplace = True)\n",
    "\n",
    "resultados = [round(previsao, 5) for previsao in forecast.razao.values]\n",
    "objeto = objeto.replace(\" \",'_')\n",
    "output = {objeto.lower():str(resultados)}\n",
    "filename = f\"previsao_TFT_{objeto.lower()}_{regiao.lower()}_{qtd_Meses}_meses.json\"\n",
    "pasta_atual = os.getcwd()\n",
    "full_url = Path(pasta_atual) / 'resultados'/ 'previsoes' / filename\n",
    "os.makedirs(os.path.dirname(full_url), exist_ok=True)\n",
    "with open(full_url,\"w\") as file:\n",
    "    json.dump(output,file,ensure_ascii=False)\n",
    "\n",
    "fig = plt.figure(figsize=(16, 8))\n",
    "plt.title(f\"previsão {regiao} de {qtd_Meses} meses\", size=15)\n",
    "plt.plot(grafico_train.ano, grafico_train.razao, label = 'train', color = 'blue')\n",
    "plt.plot(grafico_val.ano, grafico_val.razao, label = 'val', color = 'black')\n",
    "plt.plot(forecast.ano, forecast.razao, label = 'forecast', color = 'red', ls = '--', marker = 'o')\n",
    "plt.legend()\n"
   ]
  },
  {
   "cell_type": "markdown",
   "id": "e24a5d66",
   "metadata": {},
   "source": [
    "## Avaliar os melhores hyperparametros"
   ]
  },
  {
   "cell_type": "code",
   "execution_count": 5,
   "id": "8ae79302",
   "metadata": {},
   "outputs": [
    {
     "data": {
      "text/plain": [
       "\"\\ninput_chunk_length = [12, 37, 48]\\nepochs = [150, 200, 250, 300] \\nhidden_sizes = [24, 32, 64]   \\ndropouts = [0.1, 0.2]\\n\\nparams = {'input_chunk_length': [], 'epochs': [] ,'hidden_size': [], 'dropout':[], 'RMSE': [], 'MAPE':[]}\\nbest_params = {'input_chunk_length': None, 'epochs': None, 'hidden_size': None, 'dropout': None, 'RMSE': None, 'MAPE':None}\\n\\nfor input_size in input_chunk_length:\\n    for epoch in epochs:\\n        for hidden_size in hidden_sizes:\\n            for dropout in dropouts:\\n                model_TFT = TFTModel(input_chunk_length = input_size, output_chunk_length= qtd_Meses, n_epochs = epoch, \\n                hidden_size = hidden_size, add_relative_index=True, lstm_layers=1, dropout = dropout)\\n\\n                model_TFT.fit(series = [train_cesta], verbose = True)\\n                forecast = model_TFT.predict(len(val_cesta), series = train_cesta)\\n\\n                rmse_model = rmse(val_cesta, forecast)\\n                mape_model = mape(val_cesta, forecast)\\n\\n                if best_params['MAPE'] is None or mape_model < best_params['MAPE']:\\n                    best_params['input_chunk_length'] = input_size\\n                    best_params['epochs'] = epoch\\n                    best_params['hidden_size'] = hidden_size\\n                    best_params['dropout'] = dropout\\n                    best_params['RMSE'] = rmse_model\\n                    best_params['MAPE'] = mape_model\\n\\n                params['input_chunk_length'].append(input_size)\\n                params['epochs'].append(epoch)\\n                params['hidden_size'].append(hidden_size)\\n                params['dropout'].append(dropout)\\n                params['RMSE'].append(rmse_model)\\n                params['MAPE'].append(mape_model)\\n\\ndf_params = pd.DataFrame(params)\\n\""
      ]
     },
     "execution_count": 5,
     "metadata": {},
     "output_type": "execute_result"
    }
   ],
   "source": [
    "\"\"\"\n",
    "input_chunk_length = [12, 37, 48]\n",
    "epochs = [150, 200, 250, 300] \n",
    "hidden_sizes = [24, 32, 64]   \n",
    "dropouts = [0.1, 0.2]\n",
    "\n",
    "params = {'input_chunk_length': [], 'epochs': [] ,'hidden_size': [], 'dropout':[], 'RMSE': [], 'MAPE':[]}\n",
    "best_params = {'input_chunk_length': None, 'epochs': None, 'hidden_size': None, 'dropout': None, 'RMSE': None, 'MAPE':None}\n",
    "\n",
    "for input_size in input_chunk_length:\n",
    "    for epoch in epochs:\n",
    "        for hidden_size in hidden_sizes:\n",
    "            for dropout in dropouts:\n",
    "                model_TFT = TFTModel(input_chunk_length = input_size, output_chunk_length= qtd_Meses, n_epochs = epoch, \n",
    "                hidden_size = hidden_size, add_relative_index=True, lstm_layers=1, dropout = dropout)\n",
    "\n",
    "                model_TFT.fit(series = [train_cesta], verbose = True)\n",
    "                forecast = model_TFT.predict(len(val_cesta), series = train_cesta)\n",
    "\n",
    "                rmse_model = rmse(val_cesta, forecast)\n",
    "                mape_model = mape(val_cesta, forecast)\n",
    "\n",
    "                if best_params['MAPE'] is None or mape_model < best_params['MAPE']:\n",
    "                    best_params['input_chunk_length'] = input_size\n",
    "                    best_params['epochs'] = epoch\n",
    "                    best_params['hidden_size'] = hidden_size\n",
    "                    best_params['dropout'] = dropout\n",
    "                    best_params['RMSE'] = rmse_model\n",
    "                    best_params['MAPE'] = mape_model\n",
    "\n",
    "                params['input_chunk_length'].append(input_size)\n",
    "                params['epochs'].append(epoch)\n",
    "                params['hidden_size'].append(hidden_size)\n",
    "                params['dropout'].append(dropout)\n",
    "                params['RMSE'].append(rmse_model)\n",
    "                params['MAPE'].append(mape_model)\n",
    "\n",
    "df_params = pd.DataFrame(params)\n",
    "\"\"\""
   ]
  },
  {
   "cell_type": "code",
   "execution_count": 6,
   "id": "0f38ed64",
   "metadata": {},
   "outputs": [],
   "source": [
    "#print(best_params)\n",
    "#{'input_chunk_length': 48, \n",
    "#'epochs': 200,\n",
    "#'hidden_size': 24,\n",
    "#'dropout': 0.2, \n",
    "#'RMSE': 0.02487533089311727,\n",
    "#'MAPE': 5.65911085051578}"
   ]
  }
 ],
 "metadata": {
  "kernelspec": {
   "display_name": "Python 3 (ipykernel)",
   "language": "python",
   "name": "python3"
  },
  "language_info": {
   "codemirror_mode": {
    "name": "ipython",
    "version": 3
   },
   "file_extension": ".py",
   "mimetype": "text/x-python",
   "name": "python",
   "nbconvert_exporter": "python",
   "pygments_lexer": "ipython3",
   "version": "3.8.10"
  }
 },
 "nbformat": 4,
 "nbformat_minor": 5
}
